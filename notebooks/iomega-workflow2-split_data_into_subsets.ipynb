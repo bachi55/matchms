{
 "cells": [
  {
   "cell_type": "markdown",
   "metadata": {},
   "source": [
    "# Iomega workflow\n",
    "## Split cleaned data into subsets\n",
    "Here we split the previously cleaned dataset (>150,000 spectra) into various subsets for further analysis."
   ]
  },
  {
   "cell_type": "code",
   "execution_count": 1,
   "metadata": {},
   "outputs": [],
   "source": [
    "import os\n",
    "import sys\n",
    "\n",
    "ROOT = os.path.dirname(os.getcwd())\n",
    "path_data = os.path.join(ROOT, 'data')\n",
    "sys.path.insert(1, ROOT)"
   ]
  },
  {
   "cell_type": "markdown",
   "metadata": {},
   "source": [
    "### Import data from fully pre-processed data"
   ]
  },
  {
   "cell_type": "code",
   "execution_count": 2,
   "metadata": {
    "scrolled": true
   },
   "outputs": [
    {
     "ename": "ModuleNotFoundError",
     "evalue": "No module named 'matchms'",
     "output_type": "error",
     "traceback": [
      "\u001b[1;31m---------------------------------------------------------------------------\u001b[0m",
      "\u001b[1;31mModuleNotFoundError\u001b[0m                       Traceback (most recent call last)",
      "\u001b[1;32m<ipython-input-2-93969e9ddc6d>\u001b[0m in \u001b[0;36m<module>\u001b[1;34m()\u001b[0m\n\u001b[0;32m      1\u001b[0m \u001b[1;31m# Load fully processed dataset\u001b[0m\u001b[1;33m\u001b[0m\u001b[1;33m\u001b[0m\u001b[0m\n\u001b[1;32m----> 2\u001b[1;33m \u001b[1;32mfrom\u001b[0m \u001b[0mmatchms\u001b[0m\u001b[1;33m.\u001b[0m\u001b[0mimporting\u001b[0m\u001b[1;33m.\u001b[0m\u001b[0mload_from_json\u001b[0m \u001b[1;32mimport\u001b[0m \u001b[0mload_from_json\u001b[0m\u001b[1;33m\u001b[0m\u001b[0m\n\u001b[0m\u001b[0;32m      3\u001b[0m \u001b[1;33m\u001b[0m\u001b[0m\n\u001b[0;32m      4\u001b[0m \u001b[0mfilename\u001b[0m \u001b[1;33m=\u001b[0m \u001b[0mos\u001b[0m\u001b[1;33m.\u001b[0m\u001b[0mpath\u001b[0m\u001b[1;33m.\u001b[0m\u001b[0mjoin\u001b[0m\u001b[1;33m(\u001b[0m\u001b[0mpath_data\u001b[0m\u001b[1;33m,\u001b[0m\u001b[1;34m'gnps_all_cleand_by_matchms_and_pubchem_lookups.json'\u001b[0m\u001b[1;33m)\u001b[0m\u001b[1;33m\u001b[0m\u001b[0m\n\u001b[0;32m      5\u001b[0m \u001b[0mreference_spectrums\u001b[0m \u001b[1;33m=\u001b[0m \u001b[0mload_from_json\u001b[0m\u001b[1;33m(\u001b[0m\u001b[0mfilename\u001b[0m\u001b[1;33m)\u001b[0m\u001b[1;33m\u001b[0m\u001b[0m\n",
      "\u001b[1;31mModuleNotFoundError\u001b[0m: No module named 'matchms'"
     ]
    }
   ],
   "source": [
    "# Load fully processed dataset\n",
    "from matchms.importing.load_from_json import load_from_json\n",
    "\n",
    "filename = os.path.join(path_data,'gnps_all_cleand_by_matchms_and_pubchem_lookups.json')\n",
    "reference_spectrums = load_from_json(filename)"
   ]
  },
  {
   "cell_type": "markdown",
   "metadata": {},
   "source": [
    "### Select positive mode spectra only"
   ]
  },
  {
   "cell_type": "code",
   "execution_count": 3,
   "metadata": {},
   "outputs": [],
   "source": [
    "reference_spectrums_positive = [s.clone() for s in reference_spectrums if s.get(\"ionmode\") == \"positive\"]"
   ]
  },
  {
   "cell_type": "code",
   "execution_count": 4,
   "metadata": {},
   "outputs": [
    {
     "name": "stdout",
     "output_type": "stream",
     "text": [
      "Number of spectra: 112956\n",
      "Inchis: 92997 -- 16071 unique\n",
      "Smiles: 92964 -- 20540 unique\n",
      "Inchikeys: 92954 -- 13717 unique (first 14 characters)\n"
     ]
    }
   ],
   "source": [
    "def count_annotations(spectra):\n",
    "    inchi_lst = []\n",
    "    smiles_lst = []\n",
    "    inchikey_lst = []\n",
    "    for i, spec in enumerate(spectra):\n",
    "        inchi_lst.append(spec.get(\"inchi\"))\n",
    "        smiles_lst.append(spec.get(\"smiles\"))\n",
    "        inchikey = spec.get(\"inchikey\")\n",
    "        if inchikey is None:\n",
    "            inchikey = spec.get(\"inchikey_inchi\")\n",
    "        inchikey_lst.append(inchikey)\n",
    "\n",
    "    inchi_count = sum([1 for x in inchi_lst if x])\n",
    "    smiles_count = sum([1 for x in smiles_lst if x])\n",
    "    inchikey_count = sum([1 for x in inchikey_lst if x])\n",
    "    print(\"Inchis:\", inchi_count, \"--\", len(set(inchi_lst)), \"unique\")\n",
    "    print(\"Smiles:\", smiles_count, \"--\", len(set(smiles_lst)), \"unique\")\n",
    "    print(\"Inchikeys:\", inchikey_count, \"--\", \n",
    "          len(set([x[:14] for x in inchikey_lst if x])), \"unique (first 14 characters)\")\n",
    "    \n",
    "print(\"Number of spectra:\", len(reference_spectrums_positive))\n",
    "count_annotations(reference_spectrums_positive)"
   ]
  },
  {
   "cell_type": "code",
   "execution_count": 6,
   "metadata": {},
   "outputs": [],
   "source": [
    "from matchms.exporting.save_as_json import save_as_json\n",
    "\n",
    "filename = os.path.join(path_data,'gnps_positive_ionmode_cleaned_by_matchms_and_lookups.json')\n",
    "save_as_json(reference_spectrums_positive, filename)"
   ]
  },
  {
   "cell_type": "code",
   "execution_count": 3,
   "metadata": {},
   "outputs": [
    {
     "name": "stderr",
     "output_type": "stream",
     "text": [
      "RDKit WARNING: [20:50:33] Enabling RDKit 2019.09.3 jupyter extensions\n"
     ]
    }
   ],
   "source": [
    "# or load results\n",
    "\"\"\"from matchms.importing.load_from_json import load_from_json\n",
    "\n",
    "filename = os.path.join(path_data,'gnps_positive_ionmode_cleaned_by_matchms_and_lookups.json')\n",
    "reference_spectrums_positive = load_from_json(filename)\"\"\""
   ]
  },
  {
   "cell_type": "markdown",
   "metadata": {},
   "source": [
    "### Select subset of unique inchikeys"
   ]
  },
  {
   "cell_type": "code",
   "execution_count": 4,
   "metadata": {},
   "outputs": [],
   "source": [
    "import numpy\n",
    "\n",
    "def count_higher_peaks(spectrum, threshold = 0.1):\n",
    "    return numpy.sum(spectrum.peaks.intensities/spectrum.peaks.intensities.max() >= threshold)"
   ]
  },
  {
   "cell_type": "code",
   "execution_count": 5,
   "metadata": {},
   "outputs": [],
   "source": [
    "# Get collection/dictionary of inchikeys\n",
    "inchikey_collection = {}\n",
    "for i, spec in enumerate(reference_spectrums_positive):\n",
    "    inchikey = spec.get(\"inchikey\")\n",
    "    if inchikey:\n",
    "        if inchikey[:14] in inchikey_collection:\n",
    "            inchikey_collection[inchikey[:14]] += [i]\n",
    "        else:\n",
    "            inchikey_collection[inchikey[:14]] = [i]"
   ]
  },
  {
   "cell_type": "code",
   "execution_count": 6,
   "metadata": {},
   "outputs": [
    {
     "data": {
      "text/plain": [
       "13717"
      ]
     },
     "execution_count": 6,
     "metadata": {},
     "output_type": "execute_result"
    }
   ],
   "source": [
    "len(inchikey_collection)"
   ]
  },
  {
   "cell_type": "code",
   "execution_count": 31,
   "metadata": {},
   "outputs": [],
   "source": [
    "import numpy as np\n",
    "\n",
    "intensity_thres = 0.01\n",
    "n_peaks_required = 10\n",
    "ID_picks = []\n",
    "\n",
    "inchikey14_unique = [x for x in inchikey_collection.keys()]\n",
    "\n",
    "# Loop through all unique inchiques (considering 14 first characters)\n",
    "for inchikey14 in inchikey14_unique:\n",
    "    specIDs = np.array(inchikey_collection[inchikey14])\n",
    "    if specIDs.size == 1:\n",
    "        ID_picks.append(specIDs[0])\n",
    "    else:\n",
    "        # Step 1 - select spectrum with sufficient peaks (e.g. 10 with intensity 0.01)\n",
    "        num_peaks = np.array([count_higher_peaks(reference_spectrums_positive[specID], intensity_thres) for specID in specIDs])\n",
    "        sufficient_peaks = np.where(num_peaks >= n_peaks_required)[0]\n",
    "        if sufficient_peaks.size == 0:\n",
    "            sufficient_peaks = np.where(num_peaks == max(num_peaks))[0]\n",
    "        step1IDs = specIDs[sufficient_peaks]\n",
    "\n",
    "        # Step 2 - select best spectrum qualities (according to gnps measure). 1 > 2 > 3\n",
    "        qualities = np.array([int(reference_spectrums_positive[specID].get(\"library_class\")) for specID in step1IDs])\n",
    "        step2IDs = step1IDs[np.where(qualities == min(qualities))[0]]\n",
    "\n",
    "        # Step 3 Select the ones with most peaks > threshold\n",
    "        num_peaks = np.array([count_higher_peaks(reference_spectrums_positive[specID], intensity_thres) for specID in step2IDs])\n",
    "        pick = np.argmax(num_peaks)\n",
    "        ID_picks.append(step2IDs[pick])"
   ]
  },
  {
   "cell_type": "code",
   "execution_count": 32,
   "metadata": {},
   "outputs": [
    {
     "data": {
      "text/plain": [
       "13717"
      ]
     },
     "execution_count": 32,
     "metadata": {},
     "output_type": "execute_result"
    }
   ],
   "source": [
    "#Check if indeed correct number of unique inchikeys:\n",
    "test_inchikeys14 = []\n",
    "for ID in ID_picks:\n",
    "    test_inchikeys14.append(reference_spectrums_positive[ID].get(\"inchikey\")[:14])\n",
    "    \n",
    "len(set(test_inchikeys14))"
   ]
  },
  {
   "cell_type": "code",
   "execution_count": 40,
   "metadata": {},
   "outputs": [],
   "source": [
    "import json\n",
    "filename = os.path.join(path_data,'unique_inchikeys_positive_ionmode_IDs200519.json')\n",
    "with open(filename, 'w') as f:\n",
    "    json.dump([int(x) for x in ID_picks], f)"
   ]
  },
  {
   "cell_type": "code",
   "execution_count": 41,
   "metadata": {},
   "outputs": [
    {
     "data": {
      "text/plain": [
       "13717"
      ]
     },
     "execution_count": 41,
     "metadata": {},
     "output_type": "execute_result"
    }
   ],
   "source": [
    "spectrums_unique_inchikeys_positive = [reference_spectrums_positive[ID].clone() for ID in ID_picks]\n",
    "len(spectrums_unique_inchikeys_positive)"
   ]
  },
  {
   "cell_type": "code",
   "execution_count": 42,
   "metadata": {},
   "outputs": [
    {
     "name": "stdout",
     "output_type": "stream",
     "text": [
      "Inchis: 13717 -- 13717 unique\n",
      "Smiles: 13717 -- 13674 unique\n",
      "Inchikeys: 13717 -- 13717 unique (first 14 characters)\n"
     ]
    }
   ],
   "source": [
    "count_annotations(spectrums_unique_inchikeys_positive)"
   ]
  },
  {
   "cell_type": "code",
   "execution_count": 43,
   "metadata": {},
   "outputs": [],
   "source": [
    "from matchms.exporting.save_as_json import save_as_json\n",
    "\n",
    "filename = os.path.join(path_data,'gnps_positive_ionmode_unique_inchikey_cleaned_by_matchms_and_lookups.json')\n",
    "save_as_json(spectrums_unique_inchikeys_positive, filename)"
   ]
  }
 ],
 "metadata": {
  "kernelspec": {
   "display_name": "Python 3",
   "language": "python",
   "name": "python3"
  },
  "language_info": {
   "codemirror_mode": {
    "name": "ipython",
    "version": 3
   },
   "file_extension": ".py",
   "mimetype": "text/x-python",
   "name": "python",
   "nbconvert_exporter": "python",
   "pygments_lexer": "ipython3",
   "version": "3.6.5"
  }
 },
 "nbformat": 4,
 "nbformat_minor": 2
}
