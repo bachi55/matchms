{
 "cells": [
  {
   "cell_type": "markdown",
   "metadata": {},
   "source": [
    "# Iomega workflow\n",
    "## Calculate molecular fingerprint based similarities\n",
    "Calculate all-vs-all similarity matrices for the data subset \"Unique InchiKeys\" (>12,000 spectra) using molecular fingerprints."
   ]
  },
  {
   "cell_type": "code",
   "execution_count": 1,
   "metadata": {},
   "outputs": [],
   "source": [
    "import os\n",
    "import sys\n",
    "\n",
    "path_data = os.path.join(os.path.dirname(os.getcwd()), 'data')"
   ]
  },
  {
   "cell_type": "markdown",
   "metadata": {},
   "source": [
    "### Import pre-processed data subset \"Unique InchiKeys\""
   ]
  },
  {
   "cell_type": "code",
   "execution_count": 3,
   "metadata": {},
   "outputs": [
    {
     "name": "stdout",
     "output_type": "stream",
     "text": [
      "number of spectra: 13717\n"
     ]
    }
   ],
   "source": [
    "from matchms.importing import load_from_json\n",
    "\n",
    "filename = os.path.join(path_data,'gnps_positive_ionmode_unique_inchikey_cleaned_by_matchms_and_lookups.json')\n",
    "spectrums = load_from_json(filename)\n",
    "\n",
    "print(\"number of spectra:\", len(spectrums))"
   ]
  },
  {
   "cell_type": "markdown",
   "metadata": {},
   "source": [
    "### Post-process spectra\n",
    "+ Normalize spectrum\n",
    "+ Remove peaks outside m/z ratios between 0 and 1000.0\n",
    "+ Discard spectra with less then 10 remaining peaks (to make it consistent with later spec2vec analysis)\n",
    "+ Remove peaks with relative intensity lower than 0.01"
   ]
  },
  {
   "cell_type": "code",
   "execution_count": 4,
   "metadata": {},
   "outputs": [],
   "source": [
    "from matchms.filtering import normalize_intensities\n",
    "from matchms.filtering import require_minimum_number_of_peaks\n",
    "from matchms.filtering import select_by_mz\n",
    "from matchms.filtering import select_by_relative_intensity"
   ]
  },
  {
   "cell_type": "code",
   "execution_count": 5,
   "metadata": {},
   "outputs": [],
   "source": [
    "def post_process(s):\n",
    "    s = normalize_intensities(s)\n",
    "    s = select_by_mz(s, mz_from=0, mz_to=1000)\n",
    "    s = require_minimum_number_of_peaks(s, n_required=10)\n",
    "    s = select_by_relative_intensity(s, intensity_from=0.01, intensity_to=1.0)\n",
    "    return s\n",
    "\n",
    "# apply filters to the data\n",
    "spectrums = [post_process(s) for s in spectrums]\n",
    "\n",
    "# omit spectrums that didn't qualify for analysis\n",
    "spectrums = [s for s in spectrums if s is not None]"
   ]
  },
  {
   "cell_type": "code",
   "execution_count": 6,
   "metadata": {},
   "outputs": [
    {
     "name": "stdout",
     "output_type": "stream",
     "text": [
      "Remaining number of spectra: 12797\n"
     ]
    }
   ],
   "source": [
    "print(\"Remaining number of spectra:\", len(spectrums))"
   ]
  },
  {
   "cell_type": "markdown",
   "metadata": {},
   "source": [
    "## Derive molecular fingerprints\n",
    "+ Fingerprints will be derived from smiles if possible, otherwise from inchi\n",
    "+ Different fingerprint types can be selected: ``daylight``, ``morgan1``, ``morgan2``, ``morgan3`` (all using rdkit)\n",
    "+ vector size is specified with ``nbits``, here set to 2048\n",
    "--> will be used with ``Jaccard index``"
   ]
  },
  {
   "cell_type": "code",
   "execution_count": 7,
   "metadata": {},
   "outputs": [],
   "source": [
    "from matchms.filtering.add_fingerprint import add_fingerprint\n",
    "\n",
    "spectrums = [add_fingerprint(s, fingerprint_type=\"daylight\", nbits=2048) for s in spectrums]"
   ]
  },
  {
   "cell_type": "markdown",
   "metadata": {},
   "source": [
    "# Calculate similarity score matrices\n",
    "+ Similarities between all possible pairs of spectra will be calculated. This will give a similarity score matrix of size 12,797 x 12,797."
   ]
  },
  {
   "cell_type": "code",
   "execution_count": 8,
   "metadata": {},
   "outputs": [
    {
     "ename": "ZeroDivisionError",
     "evalue": "division by zero",
     "output_type": "error",
     "traceback": [
      "\u001b[1;31m---------------------------------------------------------------------------\u001b[0m",
      "\u001b[1;31mZeroDivisionError\u001b[0m                         Traceback (most recent call last)",
      "\u001b[1;32m<ipython-input-8-4143bd158f1e>\u001b[0m in \u001b[0;36m<module>\u001b[1;34m\u001b[0m\n\u001b[0;32m      2\u001b[0m \u001b[1;33m\u001b[0m\u001b[0m\n\u001b[0;32m      3\u001b[0m \u001b[0msimilarity_measure\u001b[0m \u001b[1;33m=\u001b[0m \u001b[0mFingerprintSimilarityParallel\u001b[0m\u001b[1;33m(\u001b[0m\u001b[0msimilarity_measure\u001b[0m\u001b[1;33m=\u001b[0m\u001b[1;34m\"jaccard\"\u001b[0m\u001b[1;33m)\u001b[0m\u001b[1;33m\u001b[0m\u001b[1;33m\u001b[0m\u001b[0m\n\u001b[1;32m----> 4\u001b[1;33m \u001b[0mscores_mol_similarity\u001b[0m \u001b[1;33m=\u001b[0m \u001b[0msimilarity_measure\u001b[0m\u001b[1;33m(\u001b[0m\u001b[0mspectrums\u001b[0m\u001b[1;33m,\u001b[0m \u001b[0mspectrums\u001b[0m\u001b[1;33m)\u001b[0m\u001b[1;33m\u001b[0m\u001b[1;33m\u001b[0m\u001b[0m\n\u001b[0m\u001b[0;32m      5\u001b[0m \u001b[1;33m\u001b[0m\u001b[0m\n\u001b[0;32m      6\u001b[0m \u001b[1;32mimport\u001b[0m \u001b[0mnumpy\u001b[0m \u001b[1;32mas\u001b[0m \u001b[0mnp\u001b[0m\u001b[1;33m\u001b[0m\u001b[1;33m\u001b[0m\u001b[0m\n",
      "\u001b[1;32mc:\\onedrive - netherlands escience center\\project_wageningen_iomega\\matchms-dev\\matchms\\matchms\\similarity\\FingerprintSimilarityParallel.py\u001b[0m in \u001b[0;36m__call__\u001b[1;34m(self, references, queries)\u001b[0m\n\u001b[0;32m     57\u001b[0m             similarity_matrix[numpy.ix_(idx_fingerprints1,\n\u001b[0;32m     58\u001b[0m                                         idx_fingerprints2)] = jaccard_similarity_matrix(fingerprints1,\n\u001b[1;32m---> 59\u001b[1;33m                                                                                         fingerprints2)\n\u001b[0m\u001b[0;32m     60\u001b[0m         \u001b[1;32melif\u001b[0m \u001b[0mself\u001b[0m\u001b[1;33m.\u001b[0m\u001b[0msimilarity_measure\u001b[0m \u001b[1;33m==\u001b[0m \u001b[1;34m\"dice\"\u001b[0m\u001b[1;33m:\u001b[0m\u001b[1;33m\u001b[0m\u001b[1;33m\u001b[0m\u001b[0m\n\u001b[0;32m     61\u001b[0m             similarity_matrix[numpy.ix_(idx_fingerprints1,\n",
      "\u001b[1;31mZeroDivisionError\u001b[0m: division by zero"
     ]
    }
   ],
   "source": [
    "from matchms.similarity import FingerprintSimilarityParallel\n",
    "\n",
    "similarity_measure = FingerprintSimilarityParallel(similarity_measure=\"jaccard\")\n",
    "scores_mol_similarity = similarity_measure(spectrums, spectrums)\n",
    "#start 21:53\n",
    "import numpy as np\n",
    "filename = os.path.join(path_data, \"similarities_daylight2048_jaccard.npy\")\n",
    "np.save(filename, scores_mol_similarity)"
   ]
  },
  {
   "cell_type": "code",
   "execution_count": 14,
   "metadata": {},
   "outputs": [
    {
     "ename": "KeyboardInterrupt",
     "evalue": "",
     "output_type": "error",
     "traceback": [
      "\u001b[1;31m---------------------------------------------------------------------------\u001b[0m",
      "\u001b[1;31mKeyboardInterrupt\u001b[0m                         Traceback (most recent call last)",
      "\u001b[1;32m<ipython-input-14-cada4595e0f7>\u001b[0m in \u001b[0;36m<module>\u001b[1;34m\u001b[0m\n\u001b[0;32m      4\u001b[0m     \u001b[1;32mfor\u001b[0m \u001b[0mj\u001b[0m\u001b[1;33m,\u001b[0m \u001b[0mspec2\u001b[0m \u001b[1;32min\u001b[0m \u001b[0menumerate\u001b[0m\u001b[1;33m(\u001b[0m\u001b[0mspectrums\u001b[0m\u001b[1;33m[\u001b[0m\u001b[0mi\u001b[0m\u001b[1;33m:\u001b[0m\u001b[1;33m]\u001b[0m\u001b[1;33m,\u001b[0m \u001b[0mi\u001b[0m\u001b[1;33m)\u001b[0m\u001b[1;33m:\u001b[0m\u001b[1;33m\u001b[0m\u001b[1;33m\u001b[0m\u001b[0m\n\u001b[0;32m      5\u001b[0m         \u001b[1;32mif\u001b[0m \u001b[0mspec1\u001b[0m\u001b[1;33m.\u001b[0m\u001b[0mget\u001b[0m\u001b[1;33m(\u001b[0m\u001b[1;34m\"fingerprint\"\u001b[0m\u001b[1;33m)\u001b[0m \u001b[1;32mis\u001b[0m \u001b[1;32mnot\u001b[0m \u001b[1;32mNone\u001b[0m \u001b[1;32mand\u001b[0m \u001b[0mspec2\u001b[0m\u001b[1;33m.\u001b[0m\u001b[0mget\u001b[0m\u001b[1;33m(\u001b[0m\u001b[1;34m\"fingerprint\"\u001b[0m\u001b[1;33m)\u001b[0m \u001b[1;32mis\u001b[0m \u001b[1;32mnot\u001b[0m \u001b[1;32mNone\u001b[0m\u001b[1;33m:\u001b[0m\u001b[1;33m\u001b[0m\u001b[1;33m\u001b[0m\u001b[0m\n\u001b[1;32m----> 6\u001b[1;33m             \u001b[0mu_or_v\u001b[0m \u001b[1;33m=\u001b[0m \u001b[0mnp\u001b[0m\u001b[1;33m.\u001b[0m\u001b[0mbitwise_or\u001b[0m\u001b[1;33m(\u001b[0m\u001b[0mspec1\u001b[0m\u001b[1;33m.\u001b[0m\u001b[0mget\u001b[0m\u001b[1;33m(\u001b[0m\u001b[1;34m\"fingerprint\"\u001b[0m\u001b[1;33m)\u001b[0m \u001b[1;33m!=\u001b[0m \u001b[1;36m0\u001b[0m\u001b[1;33m,\u001b[0m \u001b[0mspec2\u001b[0m\u001b[1;33m.\u001b[0m\u001b[0mget\u001b[0m\u001b[1;33m(\u001b[0m\u001b[1;34m\"fingerprint\"\u001b[0m\u001b[1;33m)\u001b[0m \u001b[1;33m!=\u001b[0m \u001b[1;36m0\u001b[0m\u001b[1;33m)\u001b[0m\u001b[1;33m\u001b[0m\u001b[1;33m\u001b[0m\u001b[0m\n\u001b[0m\u001b[0;32m      7\u001b[0m             \u001b[1;32mif\u001b[0m \u001b[0mu_or_v\u001b[0m\u001b[1;33m.\u001b[0m\u001b[0msum\u001b[0m\u001b[1;33m(\u001b[0m\u001b[1;33m)\u001b[0m \u001b[1;33m<\u001b[0m \u001b[1;36m1\u001b[0m\u001b[1;33m:\u001b[0m\u001b[1;33m\u001b[0m\u001b[1;33m\u001b[0m\u001b[0m\n\u001b[0;32m      8\u001b[0m                 \u001b[0mprint\u001b[0m\u001b[1;33m(\u001b[0m\u001b[0mi\u001b[0m\u001b[1;33m,\u001b[0m \u001b[0mj\u001b[0m\u001b[1;33m,\u001b[0m \u001b[0mu_or_v\u001b[0m\u001b[1;33m)\u001b[0m\u001b[1;33m\u001b[0m\u001b[1;33m\u001b[0m\u001b[0m\n",
      "\u001b[1;31mKeyboardInterrupt\u001b[0m: "
     ]
    }
   ],
   "source": [
    "import numpy as np\n",
    "\n",
    "for i, spec1 in enumerate(spectrums):\n",
    "    for j, spec2 in enumerate(spectrums[i:], i):\n",
    "        if spec1.get(\"fingerprint\") is not None and spec2.get(\"fingerprint\") is not None:\n",
    "            u_or_v = np.bitwise_or(spec1.get(\"fingerprint\") != 0, spec2.get(\"fingerprint\") != 0)\n",
    "            if u_or_v.sum() < 1:\n",
    "                print(i, j, u_or_v)"
   ]
  },
  {
   "cell_type": "code",
   "execution_count": 16,
   "metadata": {},
   "outputs": [
    {
     "data": {
      "text/plain": [
       "(2259, 8395)"
      ]
     },
     "execution_count": 16,
     "metadata": {},
     "output_type": "execute_result"
    }
   ],
   "source": [
    "i, j\n"
   ]
  },
  {
   "cell_type": "code",
   "execution_count": 20,
   "metadata": {},
   "outputs": [],
   "source": [
    "scores_mol_similarity = similarity_measure(spectrums[11134:11136], spectrums[11144:11146])"
   ]
  },
  {
   "cell_type": "code",
   "execution_count": 17,
   "metadata": {},
   "outputs": [
    {
     "name": "stdout",
     "output_type": "stream",
     "text": [
      "543 no fingerprint\n",
      "1246 no fingerprint\n",
      "11145 weird\n"
     ]
    }
   ],
   "source": [
    "for i, spec1 in enumerate(spectrums):\n",
    "    if spec1.get(\"fingerprint\") is None:\n",
    "        print(i, \"no fingerprint\")\n",
    "    elif spec1.get(\"fingerprint\").sum() < 1:\n",
    "        print(i, \"weird\")\n",
    "        "
   ]
  },
  {
   "cell_type": "code",
   "execution_count": 27,
   "metadata": {},
   "outputs": [
    {
     "name": "stdout",
     "output_type": "stream",
     "text": [
      "ZXJXZNDDNMQXFV\n",
      "VEXZGXHMUGYJMC\n"
     ]
    }
   ],
   "source": [
    "from matchms.utils import mol_converter\n",
    "\n",
    "inchi = spectrums[11145].get(\"inchi\")\n",
    "inchikey = mol_converter(inchi, \"inchi\", \"inchikey\")[:14]\n",
    "print(inchikey)\n",
    "\n",
    "smiles = spectrums[11145].get(\"smiles\")\n",
    "inchikey = mol_converter(smiles, \"smiles\", \"inchikey\")[:14]\n",
    "print(inchikey)"
   ]
  },
  {
   "cell_type": "code",
   "execution_count": 31,
   "metadata": {},
   "outputs": [
    {
     "name": "stdout",
     "output_type": "stream",
     "text": [
      "40 \n",
      "\n",
      "-------------------- CC[C@@]1([C@H](C(=C2C(=CC3=C2C(=C4C(=O)C=CC(=O)C4=C3O)O)[C@H]1O[C@@H]5C[C@@H]([C@H]([C@@H](O5)C)N(C)C)O)O)[C@H]6C(=O)C7=C([C@H]([C@@]6(CC)O[C@@H]8C[C@H]([C@@H]([C@H](O8)C)O)OC)O[C@@H]9C[C@@H]([C@H]([C@@H](O9)C)N(C)C)O)C(=[N+]=[N-])C1=C(C2=C(C(=O)C=CC2=O)C(=C71)O)O)O[C@@H]1C[C@H]([C@@H]([C@H](O1)C)O)OC\n",
      "-------------------- InChI=1S/C68H82N4O24/c1-13-67(95-40-22-36(87-11)57(79)26(5)91-40)52(63(85)43-29(65(67)93-38-20-34(77)55(71(7)8)24(3)89-38)19-28-42(43)60(82)45-31(74)16-15-30(73)44(45)59(28)81)53-64(86)49-48-50(62(84)47-33(76)18-17-32(75)46(47)61(48)83)54(70-69)51(49)66(94-39-21-35(78)56(72(9)10)25(4)90-39)68(53,14-2)96-41-23-37(88-12)58(80)27(6)92-41/h15-19,24-27,34-41,52-53,55-58,65-66,77-85H,13-14,20-23H2,1-12H3/t24-,25-,26+,27+,34-,35-,36+,37+,38+,39+,40+,41+,52-,53-,55-,56-,57+,58+,65+,66+,67-,68-/m0/s1\n",
      "---------- AVVUVGNOUBNZKQ\n",
      "---------- NZZSDJHUISSTSC\n",
      "294 \n",
      "\n",
      "-------------------- CC[C@@]1([C@H](C(=C2C(=CC3=C2C(=C4C(=O)C=CC(=O)C4=C3O)O)[C@H]1O[C@@H]5C[C@@H]([C@H]([C@@H](O5)C)N(C)C)O)O)[C@H]6C(=O)C7=C([C@H]([C@@]6(CC)O[C@@H]8C[C@H]([C@@H]([C@H](O8)C)OC)OC)O[C@@H]9C[C@@H]([C@H]([C@@H](O9)C)N(C)C)O)C(=[N+]=[N-])C1=C(C2=C(C(=O)C=CC2=O)C(=C71)O)O)O[C@@H]1C[C@H]([C@@H]([C@H](O1)C)O)OC\n",
      "-------------------- InChI=1S/C69H84N4O24/c1-14-68(96-41-23-37(87-11)58(80)27(5)92-41)53(63(85)44-30(66(68)94-39-21-35(78)56(72(7)8)25(3)90-39)20-29-43(44)60(82)46-32(75)17-16-31(74)45(46)59(29)81)54-64(86)50-49-51(62(84)48-34(77)19-18-33(76)47(48)61(49)83)55(71-70)52(50)67(95-40-22-36(79)57(73(9)10)26(4)91-40)69(54,15-2)97-42-24-38(88-12)65(89-13)28(6)93-42/h16-20,25-28,35-42,53-54,56-58,65-67,78-85H,14-15,21-24H2,1-13H3/t25-,26-,27+,28+,35-,36-,37+,38+,39+,40+,41+,42+,53-,54-,56-,57-,58+,65+,66+,67+,68-,69-/m0/s1\n",
      "---------- DNWGQXWLEKIRHJ\n",
      "---------- QJVZZPREOYBOFG\n",
      "295 \n",
      "\n",
      "-------------------- CC[C@@]1([C@H](C(=C2C(=CC3=C2C(=C4C(=O)C=CC(=O)C4=C3O)O)[C@H]1O[C@@H]5C[C@@H]([C@H]([C@@H](O5)C)N(C)C)O)O)[C@H]6C(=O)C7=C([C@H]([C@@]6(CC)O[C@H]8C[C@@H]([C@H]([C@@H](O8)C)OC)OC)O[C@@H]9C[C@@H]([C@H]([C@@H](O9)C)N(C)C)O)C(=[N+]=[N-])C1=C(C2=C(C(=O)C=CC2=O)C(=C71)O)O)O[C@H]1C[C@@H]([C@H]([C@@H](O1)C)OC)OC\n",
      "-------------------- InChI=1S/C70H86N4O24/c1-15-69(97-42-24-38(87-11)65(89-13)28(5)93-42)54(63(85)45-31(67(69)95-40-22-36(79)57(73(7)8)26(3)91-40)21-30-44(45)60(82)47-33(76)18-17-32(75)46(47)59(30)81)55-64(86)51-50-52(62(84)49-35(78)20-19-34(77)48(49)61(50)83)56(72-71)53(51)68(96-41-23-37(80)58(74(9)10)27(4)92-41)70(55,16-2)98-43-25-39(88-12)66(90-14)29(6)94-43/h17-21,26-29,36-43,54-55,57-58,65-68,79-85H,15-16,22-25H2,1-14H3/t26-,27-,28-,29-,36-,37-,38-,39-,40+,41+,42-,43-,54-,55-,57-,58-,65-,66-,67+,68+,69-,70-/m0/s1\n",
      "---------- UOWMHMSOUAAHTP\n",
      "---------- UUFARPZDPLRTPW\n",
      "958 \n",
      "\n",
      "-------------------- O=C1OCC(=O)N2NCCCC2C(=O)NCC(=O)N2C(C(=O)N3C(C(=O)NC1)CCCN3)CCCN2\n",
      "-------------------- InChI=1S/C31H47ClN8O9/c1-18(2)8-5-4-6-9-21-28(46)40-24(12-19(32)14-34-40)29(47)39-22(10-7-11-33-39)27(45)37-31(3,17-41)30(48)49-16-25(43)38-23(26(44)36-21)13-20(42)15-35-38/h4-6,8,18-24,33-35,41-42H,7,9-17H2,1-3H3,(H,36,44)(H,37,45)\n",
      "---------- JQWUSEVRGIXWTP\n",
      "---------- WZHWJPRBJXEKMW\n",
      "964 \n",
      "\n",
      "-------------------- CC[C@]1([C@@H](c2[c-](c3c(c2C(=O)[C@@H]1[C@H]4C(=O)c5c([c-](c6c5C(=O)c7c(ccc(c7C6=O)O)O)[N+]#N)[C@H]([C@@]4(CC)O[C@H]8C[C@@H]([C@H]([C@@H](O8)C)O)OC)O[C@H]9C[C@H]([C@@H]([C@H](O9)C)N(C)C)O)C(=O)c1c(ccc(c1C3=O)O)O)[N+]#N)O[C@H]1C[C@H]([C@@H]([C@H](O1)C)N(C)C)O)O[C@H]1C[C@@H]([C@H]([C@@H](O1)C)O)OC\n",
      "-------------------- InChI=1S/C68H80N6O24/c1-13-67(97-37-21-33(89-11)57(81)25(5)93-37)51(63(87)45-43-47(61(85)41-29(77)17-15-27(75)39(41)59(43)83)53(71-69)49(45)65(67)95-35-19-31(79)55(73(7)8)23(3)91-35)52-64(88)46-44-48(62(86)42-30(78)18-16-28(76)40(42)60(44)84)54(72-70)50(46)66(96-36-20-32(80)56(74(9)10)24(4)92-36)68(52,14-2)98-38-22-34(90-12)58(82)26(6)94-38/h15-18,23-26,31-38,51-52,55-58,65-66,75-82H,13-14,19-22H2,1-12H3/t23-,24-,25+,26+,31-,32-,33+,34+,35+,36+,37+,38+,51+,52+,55-,56-,57+,58+,65-,66-,67+,68+/m1/s1\n",
      "---------- PNIOKHKXUGHMAV\n",
      "---------- VGDUHSQTOJRQNB\n",
      "965 \n",
      "\n",
      "-------------------- CC1OC(CC(O7)=O)C7C(C(C3=C2C(O)=C(C4=CC(O)=C(C(C(C(O8)C(CC8=O)OC6C)=C6C5=O)=O)C5=C4O)C=C3O)=O)=C1C2=O\n",
      "-------------------- InChI=1S/C32H22O14/c1-7-17-23(31-13(43-7)5-15(35)45-31)29(41)19-11(33)3-9(25(37)21(19)27(17)39)10-4-12(34)20-22(26(10)38)28(40)18-8(2)44-14-6-16(36)46-32(14)24(18)30(20)42/h3-4,7-8,13-14,31-32,39-42H,5-6H2,1-2H3\n",
      "---------- QCDBYUUEYOONDY\n",
      "---------- FYMVLOXRVLSINK\n",
      "1247 \n",
      "\n",
      "-------------------- CCC=CCc1nc2ccccc2c(O)c1C\n",
      "-------------------- InChI=1S/C14H15NO/c1-2-3-4-7-11-10-14(16)12-8-5-6-9-13(12)15-11/h3-6,8-10H,2,7H2,1H3,(H,15,16)\n",
      "---------- KRQABMVYTPDCNA\n",
      "---------- STKKKXHSAFYHBA\n",
      "4859 \n",
      "\n",
      "-------------------- COC1=CC2=C(C=C1)C3=C(N2)C(C)=NCC3\n",
      "-------------------- InChI=1S/C13H14N2O/c1-8-13-11(5-6-14-8)10-4-3-9(16-2)7-12(10)15-13/h3-4,7,14H,5-6H2,1-2H3\n",
      "---------- QJOZJXNKVMFAET\n",
      "---------- RERZNCLIYCABFS\n",
      "4908 \n",
      "\n",
      "-------------------- COC1=C(O)C2=C3C(C4=C(C2=O)C(C)(C)C(C)O4)=C(C)C=C(O)C3=C1O\n",
      "-------------------- InChI=1S/C20H20O6/c1-7-6-9(21)11-12-10(7)18-14(20(3,4)8(2)26-18)15(22)13(12)17(24)19(25-5)16(11)23/h6,8,22-24H,1-5H3\n",
      "---------- KMPAOJFBQSXEAI\n",
      "---------- JLAHJKGDLZKPQY\n",
      "5102 \n",
      "\n",
      "-------------------- CCC(=O)C(=O)C1=C(O)C=C(OC1=O)\\C=C\\C\n",
      "-------------------- InChI=1S/C12H12O5/c1-3-5-7-6-9(14)10(12(16)17-7)11(15)8(13)4-2/h3,5-6,15H,4H2,1-2H3/b5-3+,11-10?\n",
      "---------- CDTMNHHLRVCBBE\n",
      "---------- CEVGSSZDDUFFQW\n",
      "5226 \n",
      "\n",
      "-------------------- COC(=O)C12OC3=C(C(=O)C1=C(O)CCC2O)C(O)=C4C5C=CC6(CC4=C3)C(=O)C7=C(C(O)=CC(C)=C7)C(O)=C6C5=O\n",
      "-------------------- InChI=1S/C31H24O11/c1-11-7-14-20(16(33)8-11)26(37)23-24(35)13-5-6-30(23,28(14)39)10-12-9-17-21(25(36)19(12)13)27(38)22-15(32)3-4-18(34)31(22,42-17)29(40)41-2/h5-9,13,18,33-34,36-38H,3-4,10H2,1-2H3\n",
      "---------- XCWGCTNGDUDAMO\n",
      "---------- KIWTVJVARRPBPR\n",
      "5423 \n",
      "\n",
      "-------------------- COC1=C(C(=CC(C)=C1)C(O)=O)C2=C(O)C(=O)C3=C(C=CC=C3O)C2=O\n",
      "-------------------- InChI=1S/C19H14O7/c1-8-6-10(19(24)25)14(12(7-8)26-2)15-16(21)9-4-3-5-11(20)13(9)17(22)18(15)23/h3-7,20-21H,1-2H3,(H,24,25)\n",
      "---------- CPRXVUOMCYXPHA\n",
      "---------- PBKZJIMGHNPKBJ\n",
      "5695 \n",
      "\n",
      "-------------------- COC1=C(SC)C(\\C=N\\O)=NC(=C1)C2=NC=CC=C2\n",
      "-------------------- InChI=1S/C13H13N3O2S/c1-18-12-7-10(9-5-3-4-6-14-9)16-11(8-15-17)13(12)19-2/h3-8,16H,1-2H3\n",
      "---------- FXPSZLHFJDHOMI\n",
      "---------- NQGMIPUYCWIEAW\n",
      "5719 \n",
      "\n",
      "-------------------- CCCC(=O)C1=C(O)C(C)=C(O)C(CC2=C(O)C(C)(C)C(O)=C(C(C)=O)C2=O)=C1O\n",
      "-------------------- InChI=1S/C22H26O8/c1-6-7-13(24)15-17(26)9(2)16(25)11(18(15)27)8-12-19(28)14(10(3)23)21(30)22(4,5)20(12)29/h25-29H,6-8H2,1-5H3\n",
      "---------- PPRFIMGXDRYLGD\n",
      "---------- XRWVZSPWRNDJNS\n",
      "8445 \n",
      "\n",
      "-------------------- CNC(=O)OC1=CC=CC(=C1)N=CN(C)C\n",
      "-------------------- InChI=1S/C11H15N3O2.ClH/c1-12-11(15)16-10-6-4-5-9(7-10)13-8-14(2)3;/h4-8H,1-3H3,(H,12,15);1H/b13-8+;\n",
      "---------- MYPKGPZHHQEODQ\n",
      "---------- RMFNNCGOSPBBAD\n",
      "10711 \n",
      "\n",
      "-------------------- CC1C2C(CC(=C3C(C2OC1=O)C(=CC3=O)C)C)O.O\n",
      "-------------------- InChI=1S/C15H18O4/c1-6-4-10(17)13-8(3)15(18)19-14(13)12-7(2)5-9(16)11(6)12/h5,8,10,12-14,17H,4H2,1-3H3\n",
      "---------- YMUOZXZDDBRJEP\n",
      "---------- ADUHAEBXPKBNDK\n",
      "11145 \n",
      "\n",
      "-------------------- [Cl-1]\n",
      "-------------------- InChI=1S/C25H30N3.ClH/c1-26(2)22-13-7-19(8-14-22)25(20-9-15-23(16-10-20)27(3)4)21-11-17-24(18-12-21)28(5)6;/h7-18H,1-6H3;1H/q+1;/p-1\n",
      "---------- ZXJXZNDDNMQXFV\n",
      "---------- VEXZGXHMUGYJMC\n",
      "12656 \n",
      "\n",
      "-------------------- CCC1=C(C2=NC1=CC3=C(C4=C([N-]3)C(=C5C(C(C(=N5)C=C6C(=C(C(=C2)[N-]6)C=C)C)C)CCC(=O)OCC=C(C)CCCC(C)CCCC(C)CCCC(C)C)C(C4=O)C(=O)OC)C)C.[Mg+2]\n",
      "-------------------- InChI=1S/C55H73N4O5.Mg/c1-13-39-35(8)42-28-44-37(10)41(24-25-48(60)64-27-26-34(7)23-17-22-33(6)21-16-20-32(5)19-15-18-31(3)4)52(58-44)50-51(55(62)63-12)54(61)49-38(11)45(59-53(49)50)30-47-40(14-2)36(9)43(57-47)29-46(39)56-42;/h13,26,28-33,37,41,51H,1,14-25,27H2,2-12H3,(H-,56,57,58,59,61);/q-1;+2/p-1\n",
      "---------- SYHZSPMCAROBPW\n",
      "---------- ATNHDLDRLWWWCB\n",
      "12657 \n",
      "\n",
      "-------------------- CCC1=C(C2=NC1=CC3=C(C4=C([N-]3)C(=C5C(C(C(=N5)C=C6C(=C(C(=C2)[N-]6)C=C)C)C)CCC(=O)OCC=C(C)CCCC(C)CCCC(C)CCCC(C)C)C(C4=O)C(=O)OC)C)C=O.[Mg+2]\n",
      "-------------------- InChI=1S/C55H71N4O6.Mg/c1-12-38-35(8)42-27-43-36(9)40(23-24-48(61)65-26-25-34(7)22-16-21-33(6)20-15-19-32(5)18-14-17-31(3)4)52(58-43)50-51(55(63)64-11)54(62)49-37(10)44(59-53(49)50)28-46-39(13-2)41(30-60)47(57-46)29-45(38)56-42;/h12,25,27-33,36,40,51H,1,13-24,26H2,2-11H3,(H-,56,57,58,59,60,62);/q-1;+2/p-1\n",
      "---------- MSLKMRUEVOYOOZ\n",
      "---------- NSMUHPMZFPKNMZ\n"
     ]
    }
   ],
   "source": [
    "for i, spec in enumerate(spectrums):\n",
    "    inchikey_smiles = None\n",
    "    inchikey_inchi = None\n",
    "    inchi = spec.get(\"inchi\")\n",
    "    if inchi:\n",
    "        inchikey_inchi = mol_converter(inchi, \"inchi\", \"inchikey\")\n",
    "    smiles = spec.get(\"smiles\")\n",
    "    if smiles:\n",
    "        inchikey_smiles = mol_converter(smiles, \"smiles\", \"inchikey\")\n",
    "    if inchikey_inchi and inchikey_smiles:\n",
    "        if not inchikey_inchi[:14] == inchikey_smiles[:14]:\n",
    "            print(i, \"\\n\")\n",
    "            print(10* \"--\", smiles)\n",
    "            print(10* \"--\", inchi)\n",
    "            print(5* \"--\", inchikey_inchi[:14])\n",
    "            print(5* \"--\", inchikey_smiles[:14])"
   ]
  },
  {
   "cell_type": "code",
   "execution_count": 21,
   "metadata": {},
   "outputs": [
    {
     "data": {
      "text/plain": [
       "{'spectrum_id': 'CCMSLIB00000214104',\n",
       " 'source_file': 'Massbank_ESI_positive_8_1_2014_peaks.mgf',\n",
       " 'task': '2b0fcfed18d74148aa284e857bb00e4d',\n",
       " 'scan': '-1',\n",
       " 'ms_level': '2',\n",
       " 'library_membership': 'MASSBANK',\n",
       " 'spectrum_status': '1',\n",
       " 'splash': 'splash10-0a4i-0009000000-0009000000',\n",
       " 'submit_user': 'mwang87',\n",
       " 'compound_name': 'FIO00351 Crystal violet',\n",
       " 'ion_source': 'ESI',\n",
       " 'compound_source': 'Isolated',\n",
       " 'instrument': 'LC-ESI-QTOF',\n",
       " 'pi': 'Putative Massbank Match',\n",
       " 'data_collector': 'Massbank',\n",
       " 'adduct': '[M+H]+',\n",
       " 'precursor_mz': 408.221,\n",
       " 'exactmass': '0.0',\n",
       " 'charge': 1,\n",
       " 'cas_number': '548-62-9',\n",
       " 'pubmed_id': 'N/A',\n",
       " 'smiles': '[Cl-1]',\n",
       " 'inchi': 'InChI=1S/C25H30N3.ClH/c1-26(2)22-13-7-19(8-14-22)25(20-9-15-23(16-10-20)27(3)4)21-11-17-24(18-12-21)28(5)6;/h7-18H,1-6H3;1H/q+1;/p-1',\n",
       " 'inchiaux': 'N/A',\n",
       " 'library_class': '3',\n",
       " 'spectrumid': 'CCMSLIB00000214104',\n",
       " 'ionmode': 'positive',\n",
       " 'create_time': '2014-08-01 16:31:38.0',\n",
       " 'task_id': '2b0fcfed18d74148aa284e857bb00e4d',\n",
       " 'user_id': 'null',\n",
       " 'inchikey_smiles': 'VEXZGXHMUGYJMC-UHFFFAOYSA-M',\n",
       " 'inchikey_inchi': 'ZXJXZNDDNMQXFV-UHFFFAOYSA-M',\n",
       " 'formula_smiles': 'Cl-',\n",
       " 'formula_inchi': 'C25H30ClN3',\n",
       " 'url': 'https://gnps.ucsd.edu/ProteoSAFe/gnpslibraryspectrum.jsp?SpectrumID=CCMSLIB00000214104',\n",
       " 'annotation_history': [{'Compound_Name': 'Massbank:FIO00351 Crystal violet',\n",
       "   'Ion_Source': 'ESI',\n",
       "   'Compound_Source': 'Isolated',\n",
       "   'Instrument': 'LC-ESI-QTOF',\n",
       "   'PI': 'Putative Massbank Match',\n",
       "   'Data_Collector': 'Massbank',\n",
       "   'Adduct': '[M+H]+',\n",
       "   'Scan': '-1',\n",
       "   'Precursor_MZ': '408.221',\n",
       "   'ExactMass': '0.0',\n",
       "   'Charge': '1',\n",
       "   'CAS_Number': '548-62-9',\n",
       "   'Pubmed_ID': 'N/A',\n",
       "   'Smiles': '[Cl-1]',\n",
       "   'INCHI': '1S/C25H30N3.ClH/c1-26(2)22-13-7-19(8-14-22)25(20-9-15-23(16-10-20)27(3)4)21-11-17-24(18-12-21)28(5)6;/h7-18H,1-6H3;1H/q+1;/p-1',\n",
       "   'INCHI_AUX': 'N/A',\n",
       "   'Library_Class': '3',\n",
       "   'SpectrumID': 'CCMSLIB00000214104',\n",
       "   'Ion_Mode': 'Positive',\n",
       "   'create_time': '2014-08-01 16:31:38.0',\n",
       "   'task_id': '2b0fcfed18d74148aa284e857bb00e4d',\n",
       "   'user_id': 'mwang87'}],\n",
       " 'parent_mass': 407.2137235480092,\n",
       " 'inchikey': 'ZXJXZNDDNMQXFV-UHFFFAOYSA-M',\n",
       " 'fingerprint': array([0, 0, 0, ..., 0, 0, 0])}"
      ]
     },
     "execution_count": 21,
     "metadata": {},
     "output_type": "execute_result"
    }
   ],
   "source": [
    "spectrums[11145].metadata"
   ]
  },
  {
   "cell_type": "markdown",
   "metadata": {},
   "source": [
    "## Derive different type of molecular fingerprints\n",
    "+ Here: ``morgan3``\n",
    "+ Then using ``Dice Similarity Coefficient``"
   ]
  },
  {
   "cell_type": "code",
   "execution_count": 7,
   "metadata": {},
   "outputs": [],
   "source": [
    "spectrums = [add_fingerprint(s, fingerprint_type=\"daylight\", nbits=2048) for s in spectrums]"
   ]
  },
  {
   "cell_type": "markdown",
   "metadata": {},
   "source": [
    "### Calculate similarity score matrices"
   ]
  },
  {
   "cell_type": "code",
   "execution_count": null,
   "metadata": {},
   "outputs": [],
   "source": [
    "similarity_measure = FingerprintSimilarityParallel(similarity_measure=\"jaccard\")\n",
    "scores_mol_similarity = similarity_measure(spectrums, spectrums)\n",
    "\n",
    "import numpy as np\n",
    "filename = os.path.join(path_data, \"similarities_morgan3_2048_dice.npy\")\n",
    "np.save(filename, scores_mol_similarity)"
   ]
  }
 ],
 "metadata": {
  "kernelspec": {
   "display_name": "Python 3",
   "language": "python",
   "name": "python3"
  },
  "language_info": {
   "codemirror_mode": {
    "name": "ipython",
    "version": 3
   },
   "file_extension": ".py",
   "mimetype": "text/x-python",
   "name": "python",
   "nbconvert_exporter": "python",
   "pygments_lexer": "ipython3",
   "version": "3.7.6"
  }
 },
 "nbformat": 4,
 "nbformat_minor": 2
}
