{
 "cells": [
  {
   "cell_type": "markdown",
   "metadata": {},
   "source": [
    "# Iomega workflow\n",
    "## Calculate molecular fingerprint based similarities\n",
    "Calculate all-vs-all similarity matrices for the data subset \"Unique InchiKeys\" (>12,000 spectra) using molecular fingerprints."
   ]
  },
  {
   "cell_type": "code",
   "execution_count": 2,
   "metadata": {},
   "outputs": [],
   "source": [
    "import os\n",
    "import sys\n",
    "\n",
    "path_data = os.path.join(os.path.dirname(os.getcwd()), 'data')"
   ]
  },
  {
   "cell_type": "markdown",
   "metadata": {},
   "source": [
    "### Import pre-processed data subset \"Unique InchiKeys\""
   ]
  },
  {
   "cell_type": "code",
   "execution_count": 5,
   "metadata": {},
   "outputs": [
    {
     "name": "stdout",
     "output_type": "stream",
     "text": [
      "number of spectra: 13717\n"
     ]
    }
   ],
   "source": [
    "from matchms.importing import load_from_json\n",
    "\n",
    "filename = os.path.join(path_data,'gnps_positive_ionmode_unique_inchikey_cleaned_by_matchms_and_lookups.json')\n",
    "spectrums = load_from_json(filename)\n",
    "\n",
    "print(\"number of spectra:\", len(spectrums))"
   ]
  },
  {
   "cell_type": "markdown",
   "metadata": {},
   "source": [
    "### Post-process spectra\n",
    "+ Normalize spectrum\n",
    "+ Remove peaks outside m/z ratios between 0 and 1000.0\n",
    "+ Discard spectra with less then 10 remaining peaks (to make it consistent with later spec2vec analysis)\n",
    "+ Remove peaks with relative intensity lower than 0.01"
   ]
  },
  {
   "cell_type": "code",
   "execution_count": 6,
   "metadata": {},
   "outputs": [],
   "source": [
    "from matchms.filtering import normalize_intensities\n",
    "from matchms.filtering import require_minimum_number_of_peaks\n",
    "from matchms.filtering import select_by_mz\n",
    "from matchms.filtering import select_by_relative_intensity"
   ]
  },
  {
   "cell_type": "code",
   "execution_count": 7,
   "metadata": {},
   "outputs": [],
   "source": [
    "def post_process(s):\n",
    "    s = normalize_intensities(s)\n",
    "    s = select_by_mz(s, mz_from=0, mz_to=1000)\n",
    "    s = require_minimum_number_of_peaks(s, n_required=10)\n",
    "    s = select_by_relative_intensity(s, intensity_from=0.01, intensity_to=1.0)\n",
    "    return s\n",
    "\n",
    "# apply filters to the data\n",
    "spectrums = [post_process(s) for s in spectrums]\n",
    "\n",
    "# omit spectrums that didn't qualify for analysis\n",
    "spectrums = [s for s in spectrums if s is not None]"
   ]
  },
  {
   "cell_type": "code",
   "execution_count": 8,
   "metadata": {},
   "outputs": [
    {
     "name": "stdout",
     "output_type": "stream",
     "text": [
      "Remaining number of spectra: 12797\n"
     ]
    }
   ],
   "source": [
    "print(\"Remaining number of spectra:\", len(spectrums))"
   ]
  },
  {
   "cell_type": "markdown",
   "metadata": {},
   "source": [
    "## Derive molecular fingerprints\n",
    "+ Fingerprints will be derived from inchi if possible, otherwise from smiles"
   ]
  },
  {
   "cell_type": "markdown",
   "metadata": {},
   "source": [
    "# Calculate similarity score matrices\n",
    "+ Similarities between all possible pairs of spectra will be calculated. This will give a similarity score matrix of size 12,797 x 12,797.\n",
    "+ Careful: for the dataset used here, calculating the all-vs-all similarity score matrix will take a while (few hours)."
   ]
  },
  {
   "cell_type": "markdown",
   "metadata": {},
   "source": [
    "## Calculate cosine similarity scores\n",
    "+ here using ``tolerance = 0.005``\n",
    "+ ``safety_points=10`` is optional, this will simply make sure that the intermediate results are occationally saved (10x during the process)."
   ]
  },
  {
   "cell_type": "code",
   "execution_count": null,
   "metadata": {},
   "outputs": [],
   "source": [
    "from matchms.similarity import CosineGreedyNumba\n",
    "from matchms.custom_functions.extra_functions import all_vs_all_similarity_matrix\n",
    "\n",
    "# Define similarity measure\n",
    "similarity_measure = CosineGreedyNumba(tolerance=0.005)\n",
    "\n",
    "filename = os.path.join(path_data, \"similarities_cosine_tol0005.npy\")\n",
    "similarities, num_matches = all_vs_all_similarity_matrix(spectrums, similarity_measure,\n",
    "                                                         filename, safety_points=10)"
   ]
  },
  {
   "cell_type": "markdown",
   "metadata": {},
   "source": [
    "## Calculate modified cosine similarity scores\n",
    "+ here using ``tolerance = 0.005``"
   ]
  },
  {
   "cell_type": "code",
   "execution_count": null,
   "metadata": {},
   "outputs": [],
   "source": [
    "from matchms.similarity import ModifiedCosine\n",
    "from matchms.custom_functions.extra_functions import all_vs_all_similarity_matrix\n",
    "\n",
    "# Define similarity measure\n",
    "similarity_measure = ModifiedCosine(tolerance=0.005)\n",
    "\n",
    "filename = os.path.join(path_data, \"similarities_mod_cosine_tol0005.npy\")\n",
    "similarities, num_matches = all_vs_all_similarity_matrix(spectrums, similarity_measure,\n",
    "                                                         filename, safety_points=10)"
   ]
  }
 ],
 "metadata": {
  "kernelspec": {
   "display_name": "Python 3",
   "language": "python",
   "name": "python3"
  },
  "language_info": {
   "codemirror_mode": {
    "name": "ipython",
    "version": 3
   },
   "file_extension": ".py",
   "mimetype": "text/x-python",
   "name": "python",
   "nbconvert_exporter": "python",
   "pygments_lexer": "ipython3",
   "version": "3.7.6"
  }
 },
 "nbformat": 4,
 "nbformat_minor": 2
}
